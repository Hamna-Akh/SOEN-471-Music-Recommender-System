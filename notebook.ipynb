{
 "cells": [
  {
   "cell_type": "markdown",
   "metadata": {},
   "source": [
    "# Imports"
   ]
  },
  {
   "cell_type": "code",
   "execution_count": 1,
   "metadata": {},
   "outputs": [],
   "source": [
    "import os\n",
    "import numpy as np\n",
    "import pandas as pd\n",
    "\n",
    "import seaborn as sns\n",
    "import plotly.express as px \n",
    "import matplotlib.pyplot as plt\n",
    "%matplotlib inline\n",
    "\n",
    "from sklearn.cluster import KMeans\n",
    "from sklearn.preprocessing import StandardScaler\n",
    "from sklearn.pipeline import Pipeline\n",
    "from sklearn.manifold import TSNE\n",
    "from sklearn.decomposition import PCA\n",
    "from sklearn.metrics import euclidean_distances\n",
    "from scipy.spatial.distance import cdist\n",
    "from scipy.sparse import csr_matrix\n",
    "from sklearn.neighbors import NearestNeighbors\n",
    "from sklearn.feature_extraction.text import TfidfVectorizer\n",
    "from sklearn.preprocessing import LabelEncoder\n",
    "from sklearn.model_selection import train_test_split\n",
    "from sklearn.metrics import f1_score, classification_report\n",
    "\n",
    "import warnings\n",
    "warnings.filterwarnings(\"ignore\")"
   ]
  },
  {
   "cell_type": "markdown",
   "metadata": {},
   "source": [
    "# 1. Dataset Preparation & Analysis\n",
    "\n",
    "## 1.2 - Loading the dataset"
   ]
  },
  {
   "cell_type": "code",
   "execution_count": 2,
   "metadata": {},
   "outputs": [],
   "source": [
    "data = pd.read_csv(\"../SOEN-471-Music-Recommender-System/data/data.csv\") \n",
    "genre_data = pd.read_csv('../SOEN-471-Music-Recommender-System/data/data_by_genres.csv')\n",
    "year_data = pd.read_csv('../SOEN-471-Music-Recommender-System/data/data_by_year.csv')"
   ]
  },
  {
   "attachments": {},
   "cell_type": "markdown",
   "metadata": {},
   "source": [
    "## 1.3 - Data Exploration"
   ]
  },
  {
   "cell_type": "code",
   "execution_count": null,
   "metadata": {},
   "outputs": [],
   "source": [
    "# data.info()"
   ]
  },
  {
   "cell_type": "code",
   "execution_count": null,
   "metadata": {},
   "outputs": [],
   "source": [
    "# data.describe()"
   ]
  },
  {
   "cell_type": "code",
   "execution_count": null,
   "metadata": {},
   "outputs": [],
   "source": [
    "# genre_data.info()"
   ]
  },
  {
   "cell_type": "code",
   "execution_count": null,
   "metadata": {},
   "outputs": [],
   "source": [
    "# year_data.info()"
   ]
  },
  {
   "attachments": {},
   "cell_type": "markdown",
   "metadata": {},
   "source": [
    "## 1.4 - Data Visualisation"
   ]
  },
  {
   "cell_type": "code",
   "execution_count": null,
   "metadata": {},
   "outputs": [],
   "source": [
    "# from yellowbrick.target import FeatureCorrelation \n",
    "\n",
    "# feature_names = ['acousticness', 'danceability', 'energy', 'instrumentalness', 'liveness', 'loudness', 'speechiness', 'tempo', 'valence','duration_ms','explicit','key','mode','year'] \n",
    "\n",
    "# X, y = data[feature_names], data['popularity'] \n",
    "# features = np.array(feature_names) # convert to numpy array for indexing\n",
    "# visualizer = FeatureCorrelation(labels=features) # Instantiate the visualizer with the Covariance ranking algorithm\n",
    "\n",
    "# plt.rcParams['figure.figsize']=(20,20) # set the size of the plot\n",
    "# visualizer.fit(X, y) # Fit the data to the visualizer      \n",
    "# visualizer.show() # Finalize and render the figure"
   ]
  },
  {
   "cell_type": "code",
   "execution_count": null,
   "metadata": {},
   "outputs": [],
   "source": [
    "# # create a plotly figure\n",
    "# sound_features = ['acousticness', 'danceability', 'energy', 'instrumentalness', 'liveness', 'speechiness', 'valence']\n",
    "# fig = px.line(year_data, x='year', y=sound_features, title='Trend of sound features over decades')\n",
    "# fig.show() "
   ]
  },
  {
   "cell_type": "code",
   "execution_count": null,
   "metadata": {},
   "outputs": [],
   "source": [
    "# # create a plotly figure\n",
    "# top10_genres = genre_data.nlargest(10, 'popularity')\n",
    "\n",
    "# fig = px.bar(top10_genres, x='genres', y=['acousticness', 'danceability', 'energy', 'instrumentalness', 'liveness', 'speechiness', 'valence'], barmode='group',\n",
    "#             title='Characteristics of top 10 genres') \n",
    "# fig.show()"
   ]
  },
  {
   "attachments": {},
   "cell_type": "markdown",
   "metadata": {},
   "source": [
    "## 1.7 - Content Based Recommendation"
   ]
  },
  {
   "attachments": {},
   "cell_type": "markdown",
   "metadata": {},
   "source": [
    "#### k-NN\n",
    "\n",
    "###### The KNN algorithm is used to find the most similar songs to a given query song, based on their feature (such as loudness, tempo, and danceability) values. The data is preprocessed by rescaling values and dropping unnecessary features. The algorithm is trained on the dataset using a kd-tree implementation, which makes the nearest neighbor search more efficient.\n",
    "###### The recommendation function takes as input a song ID and returns the top n (default is 5) most similar songs to that query song. The function uses the trained KNN model to find the nearest neighbors based on feature values and prints out the names and artists of the recommended songs.\n",
    "###### This is a content-based recommendation system, as it only takes into account the features of the songs and not user preferences or behavior. The algorithm uses similarity in features to make recommendations."
   ]
  },
  {
   "cell_type": "code",
   "execution_count": null,
   "metadata": {},
   "outputs": [],
   "source": [
    "# data.head()"
   ]
  },
  {
   "cell_type": "code",
   "execution_count": null,
   "metadata": {},
   "outputs": [],
   "source": [
    "# # Group by song name and count the number of unique artists\n",
    "# grouped_by_song = data.groupby('name')['artists'].nunique()\n",
    "\n",
    "# # Filter out unique song names and count the number of groups with more than 1 artist\n",
    "# song_names_with_diff_artists = grouped_by_song[grouped_by_song > 1]\n",
    "# count = sum(song_names_with_diff_artists)\n",
    "\n",
    "# # Print the result\n",
    "# print(f'There are {count} unique song names with different artists.')\n",
    "\n",
    "# # Get an example of a song name in the list\n",
    "# song_name = song_names_with_diff_artists.index[64]\n",
    "\n",
    "# # Print all the rows with that song name\n",
    "# print(f'All the rows with the song name \"{song_name}\":')\n",
    "# print(data.loc[data['name'] == song_name])"
   ]
  },
  {
   "cell_type": "code",
   "execution_count": 3,
   "metadata": {},
   "outputs": [
    {
     "data": {
      "text/html": [
       "<div>\n",
       "<style scoped>\n",
       "    .dataframe tbody tr th:only-of-type {\n",
       "        vertical-align: middle;\n",
       "    }\n",
       "\n",
       "    .dataframe tbody tr th {\n",
       "        vertical-align: top;\n",
       "    }\n",
       "\n",
       "    .dataframe thead th {\n",
       "        text-align: right;\n",
       "    }\n",
       "</style>\n",
       "<table border=\"1\" class=\"dataframe\">\n",
       "  <thead>\n",
       "    <tr style=\"text-align: right;\">\n",
       "      <th></th>\n",
       "      <th>valence</th>\n",
       "      <th>acousticness</th>\n",
       "      <th>danceability</th>\n",
       "      <th>energy</th>\n",
       "      <th>instrumentalness</th>\n",
       "      <th>liveness</th>\n",
       "      <th>loudness</th>\n",
       "      <th>name</th>\n",
       "      <th>speechiness</th>\n",
       "      <th>tempo</th>\n",
       "    </tr>\n",
       "  </thead>\n",
       "  <tbody>\n",
       "    <tr>\n",
       "      <th>0</th>\n",
       "      <td>0.0594</td>\n",
       "      <td>0.982</td>\n",
       "      <td>0.279</td>\n",
       "      <td>0.211</td>\n",
       "      <td>0.878000</td>\n",
       "      <td>0.665</td>\n",
       "      <td>-20.096</td>\n",
       "      <td>Piano Concerto No. 3 in D Minor, Op. 30: III. ...</td>\n",
       "      <td>0.0366</td>\n",
       "      <td>80.954</td>\n",
       "    </tr>\n",
       "    <tr>\n",
       "      <th>1</th>\n",
       "      <td>0.9630</td>\n",
       "      <td>0.732</td>\n",
       "      <td>0.819</td>\n",
       "      <td>0.341</td>\n",
       "      <td>0.000000</td>\n",
       "      <td>0.160</td>\n",
       "      <td>-12.441</td>\n",
       "      <td>Clancy Lowered the Boom</td>\n",
       "      <td>0.4150</td>\n",
       "      <td>60.936</td>\n",
       "    </tr>\n",
       "    <tr>\n",
       "      <th>2</th>\n",
       "      <td>0.0394</td>\n",
       "      <td>0.961</td>\n",
       "      <td>0.328</td>\n",
       "      <td>0.166</td>\n",
       "      <td>0.913000</td>\n",
       "      <td>0.101</td>\n",
       "      <td>-14.850</td>\n",
       "      <td>Gati Bali</td>\n",
       "      <td>0.0339</td>\n",
       "      <td>110.339</td>\n",
       "    </tr>\n",
       "    <tr>\n",
       "      <th>3</th>\n",
       "      <td>0.1650</td>\n",
       "      <td>0.967</td>\n",
       "      <td>0.275</td>\n",
       "      <td>0.309</td>\n",
       "      <td>0.000028</td>\n",
       "      <td>0.381</td>\n",
       "      <td>-9.316</td>\n",
       "      <td>Danny Boy</td>\n",
       "      <td>0.0354</td>\n",
       "      <td>100.109</td>\n",
       "    </tr>\n",
       "    <tr>\n",
       "      <th>4</th>\n",
       "      <td>0.2530</td>\n",
       "      <td>0.957</td>\n",
       "      <td>0.418</td>\n",
       "      <td>0.193</td>\n",
       "      <td>0.000002</td>\n",
       "      <td>0.229</td>\n",
       "      <td>-10.096</td>\n",
       "      <td>When Irish Eyes Are Smiling</td>\n",
       "      <td>0.0380</td>\n",
       "      <td>101.665</td>\n",
       "    </tr>\n",
       "  </tbody>\n",
       "</table>\n",
       "</div>"
      ],
      "text/plain": [
       "   valence  acousticness  danceability  energy  instrumentalness  liveness  \\\n",
       "0   0.0594         0.982         0.279   0.211          0.878000     0.665   \n",
       "1   0.9630         0.732         0.819   0.341          0.000000     0.160   \n",
       "2   0.0394         0.961         0.328   0.166          0.913000     0.101   \n",
       "3   0.1650         0.967         0.275   0.309          0.000028     0.381   \n",
       "4   0.2530         0.957         0.418   0.193          0.000002     0.229   \n",
       "\n",
       "   loudness                                               name  speechiness  \\\n",
       "0   -20.096  Piano Concerto No. 3 in D Minor, Op. 30: III. ...       0.0366   \n",
       "1   -12.441                            Clancy Lowered the Boom       0.4150   \n",
       "2   -14.850                                          Gati Bali       0.0339   \n",
       "3    -9.316                                          Danny Boy       0.0354   \n",
       "4   -10.096                        When Irish Eyes Are Smiling       0.0380   \n",
       "\n",
       "     tempo  \n",
       "0   80.954  \n",
       "1   60.936  \n",
       "2  110.339  \n",
       "3  100.109  \n",
       "4  101.665  "
      ]
     },
     "execution_count": 3,
     "metadata": {},
     "output_type": "execute_result"
    }
   ],
   "source": [
    "# create a new dataframe and drop the columns that are not needed for the clustering \n",
    "df_for_kNN = data.drop(['artists','duration_ms','explicit','key','mode','id','popularity','release_date','year'],axis=1) \n",
    "df_for_kNN.head() # check the new dataframe"
   ]
  },
  {
   "cell_type": "code",
   "execution_count": 4,
   "metadata": {},
   "outputs": [
    {
     "name": "stdout",
     "output_type": "stream",
     "text": [
      "valence: min=0.0, max=1.0\n",
      "acousticness: min=0.0, max=0.996\n",
      "danceability: min=0.0, max=0.988\n",
      "energy: min=0.0, max=1.0\n",
      "instrumentalness: min=0.0, max=1.0\n",
      "liveness: min=0.0, max=1.0\n",
      "loudness: min=-60.0, max=3.855\n",
      "name: min=!Que Vida! - Mono Version, max=텅 빈 마음 Empty Heart\n",
      "speechiness: min=0.0, max=0.97\n",
      "tempo: min=0.0, max=243.507\n"
     ]
    }
   ],
   "source": [
    "# Compute the minimum and maximum values for each column\n",
    "for col in df_for_kNN.columns:\n",
    "    min_val = df_for_kNN[col].min()\n",
    "    max_val = df_for_kNN[col].max()\n",
    "    print(f\"{col}: min={min_val}, max={max_val}\")"
   ]
  },
  {
   "cell_type": "code",
   "execution_count": 5,
   "metadata": {},
   "outputs": [
    {
     "data": {
      "text/html": [
       "<div>\n",
       "<style scoped>\n",
       "    .dataframe tbody tr th:only-of-type {\n",
       "        vertical-align: middle;\n",
       "    }\n",
       "\n",
       "    .dataframe tbody tr th {\n",
       "        vertical-align: top;\n",
       "    }\n",
       "\n",
       "    .dataframe thead th {\n",
       "        text-align: right;\n",
       "    }\n",
       "</style>\n",
       "<table border=\"1\" class=\"dataframe\">\n",
       "  <thead>\n",
       "    <tr style=\"text-align: right;\">\n",
       "      <th></th>\n",
       "      <th>valence</th>\n",
       "      <th>acousticness</th>\n",
       "      <th>danceability</th>\n",
       "      <th>energy</th>\n",
       "      <th>instrumentalness</th>\n",
       "      <th>liveness</th>\n",
       "      <th>loudness</th>\n",
       "      <th>speechiness</th>\n",
       "      <th>tempo</th>\n",
       "    </tr>\n",
       "    <tr>\n",
       "      <th>name</th>\n",
       "      <th></th>\n",
       "      <th></th>\n",
       "      <th></th>\n",
       "      <th></th>\n",
       "      <th></th>\n",
       "      <th></th>\n",
       "      <th></th>\n",
       "      <th></th>\n",
       "      <th></th>\n",
       "    </tr>\n",
       "  </thead>\n",
       "  <tbody>\n",
       "    <tr>\n",
       "      <th>Piano Concerto No. 3 in D Minor, Op. 30: III. Finale. Alla breve</th>\n",
       "      <td>0.0594</td>\n",
       "      <td>0.982</td>\n",
       "      <td>0.279</td>\n",
       "      <td>0.211</td>\n",
       "      <td>0.878000</td>\n",
       "      <td>0.665</td>\n",
       "      <td>0.624916</td>\n",
       "      <td>0.0366</td>\n",
       "      <td>0.331655</td>\n",
       "    </tr>\n",
       "    <tr>\n",
       "      <th>Clancy Lowered the Boom</th>\n",
       "      <td>0.9630</td>\n",
       "      <td>0.732</td>\n",
       "      <td>0.819</td>\n",
       "      <td>0.341</td>\n",
       "      <td>0.000000</td>\n",
       "      <td>0.160</td>\n",
       "      <td>0.744797</td>\n",
       "      <td>0.4150</td>\n",
       "      <td>0.249645</td>\n",
       "    </tr>\n",
       "    <tr>\n",
       "      <th>Gati Bali</th>\n",
       "      <td>0.0394</td>\n",
       "      <td>0.961</td>\n",
       "      <td>0.328</td>\n",
       "      <td>0.166</td>\n",
       "      <td>0.913000</td>\n",
       "      <td>0.101</td>\n",
       "      <td>0.707071</td>\n",
       "      <td>0.0339</td>\n",
       "      <td>0.452040</td>\n",
       "    </tr>\n",
       "    <tr>\n",
       "      <th>Danny Boy</th>\n",
       "      <td>0.1650</td>\n",
       "      <td>0.967</td>\n",
       "      <td>0.275</td>\n",
       "      <td>0.309</td>\n",
       "      <td>0.000028</td>\n",
       "      <td>0.381</td>\n",
       "      <td>0.793736</td>\n",
       "      <td>0.0354</td>\n",
       "      <td>0.410130</td>\n",
       "    </tr>\n",
       "    <tr>\n",
       "      <th>When Irish Eyes Are Smiling</th>\n",
       "      <td>0.2530</td>\n",
       "      <td>0.957</td>\n",
       "      <td>0.418</td>\n",
       "      <td>0.193</td>\n",
       "      <td>0.000002</td>\n",
       "      <td>0.229</td>\n",
       "      <td>0.781521</td>\n",
       "      <td>0.0380</td>\n",
       "      <td>0.416505</td>\n",
       "    </tr>\n",
       "  </tbody>\n",
       "</table>\n",
       "</div>"
      ],
      "text/plain": [
       "                                                    valence  acousticness  \\\n",
       "name                                                                        \n",
       "Piano Concerto No. 3 in D Minor, Op. 30: III. F...   0.0594         0.982   \n",
       "Clancy Lowered the Boom                              0.9630         0.732   \n",
       "Gati Bali                                            0.0394         0.961   \n",
       "Danny Boy                                            0.1650         0.967   \n",
       "When Irish Eyes Are Smiling                          0.2530         0.957   \n",
       "\n",
       "                                                    danceability  energy  \\\n",
       "name                                                                       \n",
       "Piano Concerto No. 3 in D Minor, Op. 30: III. F...         0.279   0.211   \n",
       "Clancy Lowered the Boom                                    0.819   0.341   \n",
       "Gati Bali                                                  0.328   0.166   \n",
       "Danny Boy                                                  0.275   0.309   \n",
       "When Irish Eyes Are Smiling                                0.418   0.193   \n",
       "\n",
       "                                                    instrumentalness  \\\n",
       "name                                                                   \n",
       "Piano Concerto No. 3 in D Minor, Op. 30: III. F...          0.878000   \n",
       "Clancy Lowered the Boom                                     0.000000   \n",
       "Gati Bali                                                   0.913000   \n",
       "Danny Boy                                                   0.000028   \n",
       "When Irish Eyes Are Smiling                                 0.000002   \n",
       "\n",
       "                                                    liveness  loudness  \\\n",
       "name                                                                     \n",
       "Piano Concerto No. 3 in D Minor, Op. 30: III. F...     0.665  0.624916   \n",
       "Clancy Lowered the Boom                                0.160  0.744797   \n",
       "Gati Bali                                              0.101  0.707071   \n",
       "Danny Boy                                              0.381  0.793736   \n",
       "When Irish Eyes Are Smiling                            0.229  0.781521   \n",
       "\n",
       "                                                    speechiness     tempo  \n",
       "name                                                                       \n",
       "Piano Concerto No. 3 in D Minor, Op. 30: III. F...       0.0366  0.331655  \n",
       "Clancy Lowered the Boom                                  0.4150  0.249645  \n",
       "Gati Bali                                                0.0339  0.452040  \n",
       "Danny Boy                                                0.0354  0.410130  \n",
       "When Irish Eyes Are Smiling                              0.0380  0.416505  "
      ]
     },
     "execution_count": 5,
     "metadata": {},
     "output_type": "execute_result"
    }
   ],
   "source": [
    "# rescale values and change ID to be primary key Spotify ID\n",
    "df_for_kNN['loudness'] = df_for_kNN['loudness']+60 # since the minimum value is -60 and we want to make it 0\n",
    "df_for_kNN['loudness'] = df_for_kNN['loudness']/63.855 # since the maximum value is now 63.855 and we want to make it 1\n",
    "df_for_kNN['tempo'] = df_for_kNN['tempo']/244.091 # since the maximum value is 244.091 and we want to make it 1\n",
    "df_for_kNN.index = df_for_kNN['name'] # change index to be the id\n",
    "df_for_kNN = df_for_kNN.drop(['name'],axis=1) # remove id column\n",
    "df_for_kNN.head() # check if everything is ok\n"
   ]
  },
  {
   "cell_type": "code",
   "execution_count": 6,
   "metadata": {},
   "outputs": [],
   "source": [
    "train, test = train_test_split(df_for_kNN, test_size=0.2, random_state=42) # split the data into train and test"
   ]
  },
  {
   "cell_type": "code",
   "execution_count": 7,
   "metadata": {},
   "outputs": [],
   "source": [
    "# get song ids for the train and test sets\n",
    "train_ids = train.index.tolist()\n",
    "test_ids = test.index.tolist()"
   ]
  },
  {
   "cell_type": "code",
   "execution_count": 8,
   "metadata": {},
   "outputs": [
    {
     "data": {
      "text/plain": [
       "(136522, 9)"
      ]
     },
     "execution_count": 8,
     "metadata": {},
     "output_type": "execute_result"
    }
   ],
   "source": [
    "train.shape     # check the shape of the train set"
   ]
  },
  {
   "cell_type": "code",
   "execution_count": 9,
   "metadata": {},
   "outputs": [
    {
     "data": {
      "text/plain": [
       "(34131, 9)"
      ]
     },
     "execution_count": 9,
     "metadata": {},
     "output_type": "execute_result"
    }
   ],
   "source": [
    "test.shape      # check the shape of the test set"
   ]
  },
  {
   "cell_type": "code",
   "execution_count": 13,
   "metadata": {},
   "outputs": [
    {
     "data": {
      "text/html": [
       "<style>#sk-container-id-2 {color: black;background-color: white;}#sk-container-id-2 pre{padding: 0;}#sk-container-id-2 div.sk-toggleable {background-color: white;}#sk-container-id-2 label.sk-toggleable__label {cursor: pointer;display: block;width: 100%;margin-bottom: 0;padding: 0.3em;box-sizing: border-box;text-align: center;}#sk-container-id-2 label.sk-toggleable__label-arrow:before {content: \"▸\";float: left;margin-right: 0.25em;color: #696969;}#sk-container-id-2 label.sk-toggleable__label-arrow:hover:before {color: black;}#sk-container-id-2 div.sk-estimator:hover label.sk-toggleable__label-arrow:before {color: black;}#sk-container-id-2 div.sk-toggleable__content {max-height: 0;max-width: 0;overflow: hidden;text-align: left;background-color: #f0f8ff;}#sk-container-id-2 div.sk-toggleable__content pre {margin: 0.2em;color: black;border-radius: 0.25em;background-color: #f0f8ff;}#sk-container-id-2 input.sk-toggleable__control:checked~div.sk-toggleable__content {max-height: 200px;max-width: 100%;overflow: auto;}#sk-container-id-2 input.sk-toggleable__control:checked~label.sk-toggleable__label-arrow:before {content: \"▾\";}#sk-container-id-2 div.sk-estimator input.sk-toggleable__control:checked~label.sk-toggleable__label {background-color: #d4ebff;}#sk-container-id-2 div.sk-label input.sk-toggleable__control:checked~label.sk-toggleable__label {background-color: #d4ebff;}#sk-container-id-2 input.sk-hidden--visually {border: 0;clip: rect(1px 1px 1px 1px);clip: rect(1px, 1px, 1px, 1px);height: 1px;margin: -1px;overflow: hidden;padding: 0;position: absolute;width: 1px;}#sk-container-id-2 div.sk-estimator {font-family: monospace;background-color: #f0f8ff;border: 1px dotted black;border-radius: 0.25em;box-sizing: border-box;margin-bottom: 0.5em;}#sk-container-id-2 div.sk-estimator:hover {background-color: #d4ebff;}#sk-container-id-2 div.sk-parallel-item::after {content: \"\";width: 100%;border-bottom: 1px solid gray;flex-grow: 1;}#sk-container-id-2 div.sk-label:hover label.sk-toggleable__label {background-color: #d4ebff;}#sk-container-id-2 div.sk-serial::before {content: \"\";position: absolute;border-left: 1px solid gray;box-sizing: border-box;top: 0;bottom: 0;left: 50%;z-index: 0;}#sk-container-id-2 div.sk-serial {display: flex;flex-direction: column;align-items: center;background-color: white;padding-right: 0.2em;padding-left: 0.2em;position: relative;}#sk-container-id-2 div.sk-item {position: relative;z-index: 1;}#sk-container-id-2 div.sk-parallel {display: flex;align-items: stretch;justify-content: center;background-color: white;position: relative;}#sk-container-id-2 div.sk-item::before, #sk-container-id-2 div.sk-parallel-item::before {content: \"\";position: absolute;border-left: 1px solid gray;box-sizing: border-box;top: 0;bottom: 0;left: 50%;z-index: -1;}#sk-container-id-2 div.sk-parallel-item {display: flex;flex-direction: column;z-index: 1;position: relative;background-color: white;}#sk-container-id-2 div.sk-parallel-item:first-child::after {align-self: flex-end;width: 50%;}#sk-container-id-2 div.sk-parallel-item:last-child::after {align-self: flex-start;width: 50%;}#sk-container-id-2 div.sk-parallel-item:only-child::after {width: 0;}#sk-container-id-2 div.sk-dashed-wrapped {border: 1px dashed gray;margin: 0 0.4em 0.5em 0.4em;box-sizing: border-box;padding-bottom: 0.4em;background-color: white;}#sk-container-id-2 div.sk-label label {font-family: monospace;font-weight: bold;display: inline-block;line-height: 1.2em;}#sk-container-id-2 div.sk-label-container {text-align: center;}#sk-container-id-2 div.sk-container {/* jupyter's `normalize.less` sets `[hidden] { display: none; }` but bootstrap.min.css set `[hidden] { display: none !important; }` so we also need the `!important` here to be able to override the default hidden behavior on the sphinx rendered scikit-learn.org. See: https://github.com/scikit-learn/scikit-learn/issues/21755 */display: inline-block !important;position: relative;}#sk-container-id-2 div.sk-text-repr-fallback {display: none;}</style><div id=\"sk-container-id-2\" class=\"sk-top-container\"><div class=\"sk-text-repr-fallback\"><pre>NearestNeighbors(algorithm=&#x27;brute&#x27;, metric=&#x27;cosine&#x27;, n_neighbors=10)</pre><b>In a Jupyter environment, please rerun this cell to show the HTML representation or trust the notebook. <br />On GitHub, the HTML representation is unable to render, please try loading this page with nbviewer.org.</b></div><div class=\"sk-container\" hidden><div class=\"sk-item\"><div class=\"sk-estimator sk-toggleable\"><input class=\"sk-toggleable__control sk-hidden--visually\" id=\"sk-estimator-id-2\" type=\"checkbox\" checked><label for=\"sk-estimator-id-2\" class=\"sk-toggleable__label sk-toggleable__label-arrow\">NearestNeighbors</label><div class=\"sk-toggleable__content\"><pre>NearestNeighbors(algorithm=&#x27;brute&#x27;, metric=&#x27;cosine&#x27;, n_neighbors=10)</pre></div></div></div></div></div>"
      ],
      "text/plain": [
       "NearestNeighbors(algorithm='brute', metric='cosine', n_neighbors=10)"
      ]
     },
     "execution_count": 13,
     "metadata": {},
     "output_type": "execute_result"
    }
   ],
   "source": [
    "# create the kNN model using the train set\n",
    "model = NearestNeighbors(n_neighbors=10, metric='cosine', algorithm='brute')\n",
    "model.fit(train)\n"
   ]
  },
  {
   "cell_type": "code",
   "execution_count": 21,
   "metadata": {},
   "outputs": [
    {
     "name": "stdout",
     "output_type": "stream",
     "text": [
      "For the song \"The Chain - Demo\":\n",
      "Recommendations for The Chain - Demo:\n",
      "\n",
      "1: Forgive Myself, with distance of 0.0010062065543373633:\n",
      "2: 一生中最愛 - 電影《雙城故事》歌曲, with distance of 0.00109929447909618:\n",
      "3: Is It Over, with distance of 0.0011601648440753287:\n",
      "4: Crowds, with distance of 0.0011915373706381516:\n",
      "5: Who Would Have Thought, with distance of 0.001466207879999848:\n",
      "6: Light Year, with distance of 0.0020519686564115514:\n",
      "7: Enough To Be On Your Way, with distance of 0.0020809477009173794:\n",
      "8: I Can Do All Things, with distance of 0.002083454048950939:\n",
      "9: Overkill - Acoustic Version, with distance of 0.0021929860978140425:\n"
     ]
    }
   ],
   "source": [
    "# find the k nearest neighbors for a random song in the test set and print the results\n",
    "import random\n",
    "random_song = random.choice(test_ids)\n",
    "distances, indices = model.kneighbors(test.loc[random_song].values.reshape(1, -1), n_neighbors = 10)\n",
    "print(f'For the song \"{random_song}\":')\n",
    "for i in range(0, len(distances.flatten())):\n",
    "    if i == 0:\n",
    "        print('Recommendations for {0}:\\n'.format(random_song))\n",
    "    else:\n",
    "        print('{0}: {1}, with distance of {2}:'.format(i, train.index[indices.flatten()[i]], distances.flatten()[i]))\n",
    "        \n"
   ]
  },
  {
   "cell_type": "code",
   "execution_count": null,
   "metadata": {},
   "outputs": [],
   "source": [
    "# # visualisation\n",
    "# corr_matrix = df_for_kNN.corr() # Compute the correlation matrix\n",
    "# sns.heatmap(corr_matrix, cmap='coolwarm', annot=True) # Plot the correlation matrix as a heatmap\n",
    "# plt.title('Correlation Matrix of Song Features') \n",
    "# plt.show() "
   ]
  },
  {
   "cell_type": "code",
   "execution_count": null,
   "metadata": {},
   "outputs": [],
   "source": [
    "# model_knn = NearestNeighbors(algorithm='kd_tree',n_neighbors=6) # Create a KNN model\n",
    "# mat_songs = csr_matrix(df_for_kNN.values) # Create a sparse matrix \n",
    "# model_knn.fit(mat_songs) # Fit the model to the sparse matrix\n",
    "# Create the kNN model\n",
    "# model = NearestNeighbors(n_neighbors=10, metric='cosine')\n",
    "# model.fit(X_train)\n"
   ]
  },
  {
   "cell_type": "code",
   "execution_count": null,
   "metadata": {},
   "outputs": [],
   "source": [
    "# import random\n",
    "\n",
    "# # Choose a random song from the training set\n",
    "# song_index = random.randint(0, X_train.get_shape()[0] - 1)\n",
    "# song_features = X_train[song_index]\n",
    "# song_id = train_ids[song_index]\n",
    "\n",
    "# # Find the k nearest neighbors of the chosen song\n",
    "# k = 10\n",
    "# distances, indices = model.kneighbors([song_features.toarray()[0]], n_neighbors=k)\n",
    "\n",
    "# # Print the recommended songs\n",
    "# print(f\"Because you listened to '{song_id}':\")\n",
    "# for i in range(1, k):\n",
    "#     neighbor_song_id = train_ids[indices[0][i]]\n",
    "#     print(f\"{i}: '{neighbor_song_id}'\")\n"
   ]
  },
  {
   "cell_type": "code",
   "execution_count": null,
   "metadata": {},
   "outputs": [],
   "source": [
    "# def evaluate_knn_model(model, X_train, y_train, X_test, y_test, k):\n",
    "#     model.fit(X_train)\n",
    "#     distances, indices = model.kneighbors(X_test, n_neighbors=k)\n",
    "#     y_pred = [y_train[indices[i][0]] for i in range(len(X_test))]\n",
    "#     return f1_score(y_test, y_pred, average='weighted')\n"
   ]
  },
  {
   "cell_type": "code",
   "execution_count": null,
   "metadata": {},
   "outputs": [],
   "source": [
    "# def recommend(id_song, model, number_of_recommendations=5): # Create a function to recommend songs\n",
    "#     query = df_for_kNN.loc[id_song].to_numpy().reshape(1,-1) # Get the song features\n",
    "#     print('Searching for recommendations...')\n",
    "#     distances, indices = model.kneighbors(query,n_neighbors = number_of_recommendations) # Get the distances and indices of the nearest songs\n",
    "\n",
    "#     # Loop through the indices and print the song names and artists of the nearest songs\n",
    "#     for i, index in enumerate(indices[0]):\n",
    "#      if index != id_song:\n",
    "#         song_info = data[['name','artists']].loc[index]\n",
    "#         print(f\"{i+1}. {song_info['name']} by {song_info['artists']}\")"
   ]
  },
  {
   "cell_type": "code",
   "execution_count": null,
   "metadata": {},
   "outputs": [],
   "source": [
    "# name = input('Enter song title: ') # Get the song title from the user\n",
    "# print('Song title search results: ') \n",
    "# print(data[['artists','name']].where(data['name'] == name).dropna()) # Print the search results\n",
    "\n",
    "# song_ind = int(input('Enter the index value of the requested song: ')) # Get the index value of the song from the user since more than one song can have the same name\n",
    "# id_song = data['id'].loc[song_ind] # Get the song id\n",
    "\n",
    "# song = data['name'].loc[song_ind] # Get the song nam\n",
    "# artists = data['artists'].loc[song_ind] # Get the song artists\n",
    "\n",
    "# print('Song selected is ', song, 'by', artists) \n",
    "\n",
    "# nor = int(input('Enter number of recommendations: ')) # Get the number of recommendations (nor) from the user\n",
    "\n",
    "# recommend(id_song, model_knn, nor) # Call the recommend function"
   ]
  }
 ],
 "metadata": {
  "kernelspec": {
   "display_name": "Python 3 (ipykernel)",
   "language": "python",
   "name": "python3"
  },
  "language_info": {
   "codemirror_mode": {
    "name": "ipython",
    "version": 3
   },
   "file_extension": ".py",
   "mimetype": "text/x-python",
   "name": "python",
   "nbconvert_exporter": "python",
   "pygments_lexer": "ipython3",
   "version": "3.10.0"
  },
  "vscode": {
   "interpreter": {
    "hash": "b0fa6594d8f4cbf19f97940f81e996739fb7646882a419484c72d19e05852a7e"
   }
  }
 },
 "nbformat": 4,
 "nbformat_minor": 2
}
